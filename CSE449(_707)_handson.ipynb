{
  "nbformat": 4,
  "nbformat_minor": 0,
  "metadata": {
    "colab": {
      "provenance": [],
      "gpuType": "V28"
    },
    "kernelspec": {
      "name": "python3",
      "display_name": "Python 3"
    },
    "language_info": {
      "name": "python"
    },
    "accelerator": "TPU"
  },
  "cells": [
    {
      "cell_type": "code",
      "source": [
        "# read https://www.hpc-carpentry.org/hpc-python/06-parallel/index.html\n",
        "# start recording\n",
        "# make a copy of this notebook\n",
        "# change to your student ID and name below\n",
        "# Student ID 20301393\n",
        "# Name: Fahim Ahamed Romit\n",
        "# Runtime menu -> change runtime -> TPU\n",
        "# Runtime menu -> run all\n",
        "# Explain your understandings using voice and shared screen"
      ],
      "metadata": {
        "id": "onAaa_vxORTt"
      },
      "execution_count": null,
      "outputs": []
    },
    {
      "cell_type": "code",
      "execution_count": null,
      "metadata": {
        "colab": {
          "base_uri": "https://localhost:8080/"
        },
        "id": "58ae3JkyLlCT",
        "outputId": "1368c292-0888-4fc9-c0fb-38d45eb7534b"
      },
      "outputs": [
        {
          "output_type": "execute_result",
          "data": {
            "text/plain": [
              "1"
            ]
          },
          "metadata": {},
          "execution_count": 8
        }
      ],
      "source": [
        "import psutil\n",
        "# logical=True counts threads, but we are interested in cores\n",
        "psutil.cpu_count(logical=False)\n"
      ]
    },
    {
      "cell_type": "code",
      "source": [
        "from multiprocessing import Pool\n",
        "pool = Pool(psutil.cpu_count(logical=False))\n"
      ],
      "metadata": {
        "id": "W-3asYTvMqyf"
      },
      "execution_count": null,
      "outputs": []
    },
    {
      "cell_type": "code",
      "source": [
        "import time\n",
        "\n",
        "def sleeping(arg):\n",
        "    time.sleep(0.1)\n",
        "\n",
        "%timeit list(map(sleeping, range(24)))\n"
      ],
      "metadata": {
        "colab": {
          "base_uri": "https://localhost:8080/"
        },
        "id": "-zId9zHFNwZ-",
        "outputId": "a3c04a04-3ad5-42f8-f2bb-581ebe5ac2c5"
      },
      "execution_count": null,
      "outputs": [
        {
          "output_type": "stream",
          "name": "stdout",
          "text": [
            "2.4 s ± 136 µs per loop (mean ± std. dev. of 7 runs, 1 loop each)\n"
          ]
        }
      ]
    },
    {
      "cell_type": "code",
      "source": [
        "%timeit pool.map(sleeping, range(24))"
      ],
      "metadata": {
        "colab": {
          "base_uri": "https://localhost:8080/"
        },
        "id": "-S0Ws2-XNzuF",
        "outputId": "73b0a8b3-adb5-4c17-b380-ece2e1397ee9"
      },
      "execution_count": null,
      "outputs": [
        {
          "output_type": "stream",
          "name": "stdout",
          "text": [
            "2.41 s ± 271 µs per loop (mean ± std. dev. of 7 runs, 1 loop each)\n"
          ]
        }
      ]
    },
    {
      "cell_type": "markdown",
      "source": [],
      "metadata": {
        "id": "WUOZi_R0PC_N"
      }
    }
  ]
}